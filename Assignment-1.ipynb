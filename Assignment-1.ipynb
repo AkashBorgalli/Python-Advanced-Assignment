{
 "cells": [
  {
   "cell_type": "markdown",
   "id": "73f6dfa1",
   "metadata": {},
   "source": [
    "## Structuring a program by binding related properties and functions into independent objects."
   ]
  },
  {
   "cell_type": "markdown",
   "id": "a2f3fe06",
   "metadata": {},
   "source": [
    "## Every time you use an expression of the form object.attr where object is an instance or class object, Python searches the namespace tree at and above object, for the first attr it can find. "
   ]
  },
  {
   "cell_type": "markdown",
   "id": "bc24136b",
   "metadata": {},
   "source": [
    "## Class object can be only one which has static variables but instance objects can be created as many times you want..Class object is created as you define class but instance object is created when you give parenthesis which is called by init function."
   ]
  },
  {
   "cell_type": "markdown",
   "id": "b1f9dd15",
   "metadata": {},
   "source": [
    "## Its a pointer(self) that points the object..to give u thast specific object details."
   ]
  },
  {
   "cell_type": "markdown",
   "id": "86e6a416",
   "metadata": {},
   "source": [
    "## It is similar to constructor in java ,c++.It basically creates object with specific properties defined.so when creating object of that class you dont pass extra parameters."
   ]
  },
  {
   "cell_type": "code",
   "execution_count": null,
   "id": "8da05240",
   "metadata": {},
   "outputs": [],
   "source": [
    "class temple:\n",
    "    pass\n",
    "## below is the class instance\n",
    "a = temple()"
   ]
  },
  {
   "cell_type": "code",
   "execution_count": 1,
   "id": "173c4f50",
   "metadata": {},
   "outputs": [],
   "source": [
    "## This is how we createw class\n",
    "class Car:\n",
    "    pass"
   ]
  },
  {
   "cell_type": "markdown",
   "id": "07cf4e64",
   "metadata": {},
   "source": [
    "## A class from which new class is inherited is called super class.To access the parent class in child class we use super()."
   ]
  }
 ],
 "metadata": {
  "kernelspec": {
   "display_name": "Python 3",
   "language": "python",
   "name": "python3"
  },
  "language_info": {
   "codemirror_mode": {
    "name": "ipython",
    "version": 3
   },
   "file_extension": ".py",
   "mimetype": "text/x-python",
   "name": "python",
   "nbconvert_exporter": "python",
   "pygments_lexer": "ipython3",
   "version": "3.6.9"
  }
 },
 "nbformat": 4,
 "nbformat_minor": 5
}
